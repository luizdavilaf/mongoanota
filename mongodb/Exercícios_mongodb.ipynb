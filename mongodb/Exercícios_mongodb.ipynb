{
  "nbformat": 4,
  "nbformat_minor": 0,
  "metadata": {
    "colab": {
      "name": "Exercícios mongodb.ipynb",
      "provenance": []
    },
    "kernelspec": {
      "name": "python3",
      "display_name": "Python 3"
    },
    "language_info": {
      "name": "python"
    }
  },
  "cells": [
    {
      "cell_type": "markdown",
      "source": [
        "# Exercícios banco"
      ],
      "metadata": {
        "id": "Ju4lrHjcji7i"
      }
    },
    {
      "cell_type": "markdown",
      "source": [
        "Segue abaixo uma descrição das coleções a serem utilizadas nas tarefas seguintes:\n",
        "\n",
        "Coleções presentes no banco de `analytics`:\n",
        "\n",
        "**Banco principal**: `chatbot2`\n",
        "\n",
        "* `establishments`: Coleção que armazena dos documentos dos estabelecimentos;\n",
        "* `page`: Coleção que armazena os documentos relacionados a _page_ do estabelecimento;\n",
        "* `messages`: Coleção que armazena as mensagens personalizadas do bot;\n",
        "* `intentblocks`: Coleção que armazena as intenções do bot bloqueadas de serem respondidas por cada estabelecimento;\n",
        "* `orders`: Coleção que armazena objetos de pedidos dos clientes dos estabelecimentos;\n",
        "* `bills`: Coleção que armazena objetos referentes as faturas dos estabelecimentos no sistema;\n",
        "* `establishmentunits`: Coleção que armazena \n",
        "* `clientnps`: Coleção que armazena as respostas da pesquisa de NPS realizadas com clientes dos estabelecimentos\n",
        "* `clientcoupons`: Coleção que armazena cupons retirados pelos clientes dos estabelecimentos\n",
        "* `clientgifts`: Coleção que armazena os presentes ganhos pelos clientes no plano de fidelidade\n",
        "* `modules`: Coleção que armazena os módulos do sistema\n",
        "* `pagemodules`: Coleção que armazena os módulos que os estabelecimentos têm, e se eles estão ou não ativos assim como a data de contração.\n",
        "* `item_prices`: Coleção que armazena os preços dos itens em cada dia da semana dos itens dos estabelecimentos\n",
        "\n",
        "\n",
        "Coleções presentes no banco `messages` (banco utilizado também para métricas:\n",
        "\n",
        "**Banco principal**: `messages-bot-production`\n",
        "\n",
        "* `messages`: Coleção que armazena as mensagens recebidas;\n",
        "\n",
        "\n",
        "**Importante**: \n",
        "* Todas as operações que pedirem informações de um estabelecimento específico, deveremos utilizar a seguinte referência `page` para o objetivo: `ObjectId(\"5a0df4fc1e8bf00dcccccf7c\")`\n",
        "* Todos os resultados obtidos devem ser obtidos **somente utilizando consultas ao banco**\n",
        "* Caso seja necessário, o repositório que guarda as *models* de cada uma das coleções está "
      ],
      "metadata": {
        "id": "-Du0yOWfjrZh"
      }
    },
    {
      "cell_type": "markdown",
      "source": [
        "## Resgaste todos os estabelecimentos ativos da plataforma \n",
        "\n",
        "Estabelecimentos ativos são aqueles que possuem valor `True` para a propriedade `sign.active`"
      ],
      "metadata": {
        "id": "-cN0WVYYjoAY"
      }
    },
    {
      "cell_type": "code",
      "execution_count": null,
      "metadata": {
        "id": "gm-zvXrsjh8p"
      },
      "outputs": [],
      "source": [
        " "
      ]
    },
    {
      "cell_type": "markdown",
      "source": [
        "## Resgate todos os estabelecimentos que entraram na plataforma antes de agosto de 2021\n",
        "\n",
        "Podemos considerar a data de criação do objeto (somente neste exemplo) para induzir a data de entrada"
      ],
      "metadata": {
        "id": "hS9X3PtUkiB_"
      }
    },
    {
      "cell_type": "code",
      "source": [
        ""
      ],
      "metadata": {
        "id": "DXCTLupFknbL"
      },
      "execution_count": null,
      "outputs": []
    },
    {
      "cell_type": "markdown",
      "source": [
        "## Resgate quantos clientes tem o estabelecimento especificado"
      ],
      "metadata": {
        "id": "CCFx7sB4kmyM"
      }
    },
    {
      "cell_type": "code",
      "source": [
        ""
      ],
      "metadata": {
        "id": "hS6nBsJfn6w3"
      },
      "execution_count": null,
      "outputs": []
    },
    {
      "cell_type": "markdown",
      "source": [
        "## Resgate quantos clientes realizaram pedido no estabelecimento especificado\n"
      ],
      "metadata": {
        "id": "SkJkMWBZn7EU"
      }
    },
    {
      "cell_type": "code",
      "source": [
        ""
      ],
      "metadata": {
        "id": "99NTxJMwoEr_"
      },
      "execution_count": null,
      "outputs": []
    },
    {
      "cell_type": "markdown",
      "source": [
        "## Resgate quais são as intenções bloqueadas do estabelecimento especificado"
      ],
      "metadata": {
        "id": "4sIvDaMWoFLa"
      }
    },
    {
      "cell_type": "code",
      "source": [
        ""
      ],
      "metadata": {
        "id": "giLVo9CPofJU"
      },
      "execution_count": null,
      "outputs": []
    },
    {
      "cell_type": "markdown",
      "source": [
        "## Resgate quantos estabelecimentos possuem a intenção `observation` bloqueada independente do canal"
      ],
      "metadata": {
        "id": "yCpN6AKtofe0"
      }
    },
    {
      "cell_type": "code",
      "source": [
        ""
      ],
      "metadata": {
        "id": "IxsqDaaMpAyQ"
      },
      "execution_count": null,
      "outputs": []
    },
    {
      "cell_type": "markdown",
      "source": [
        "## Resgate todos os estabelecimentos que tiveram valor de fatura superior a 200 reais no último mês"
      ],
      "metadata": {
        "id": "umIofkSypCX0"
      }
    },
    {
      "cell_type": "code",
      "source": [
        ""
      ],
      "metadata": {
        "id": "sjv8QUZipB89"
      },
      "execution_count": null,
      "outputs": []
    },
    {
      "cell_type": "markdown",
      "source": [
        "## Resgate a quantidade de pedidos relativa a cada possível `check` _(status do pedido)_ do estabelecimento selecionado\n",
        "\n",
        "* `check` é o campo que corresponde ao status do pedido;\n",
        "\n",
        "Por exemplo, para cada valor de `check` possível, deveremos retornar a quantidade de pedidos dentro de cada um dos possíveis conjuntos."
      ],
      "metadata": {
        "id": "2U4zvUv2pCvR"
      }
    },
    {
      "cell_type": "code",
      "source": [
        ""
      ],
      "metadata": {
        "id": "6_lq_992pDA2"
      },
      "execution_count": null,
      "outputs": []
    },
    {
      "cell_type": "markdown",
      "source": [
        "## Resgate a quantidade de mensagens existentes no banco que contém cada uma das palavras `pedido` e cardápio\n",
        "\n",
        "O objetivo é saber quantas mensagens tiveram a palavra pedido e quantas tiveram a palavra cardápio"
      ],
      "metadata": {
        "id": "hcQYAF-2pHPS"
      }
    },
    {
      "cell_type": "code",
      "source": [
        ""
      ],
      "metadata": {
        "id": "0gKeYNe6pDef"
      },
      "execution_count": null,
      "outputs": []
    },
    {
      "cell_type": "markdown",
      "source": [
        "## Resgate **somente** as informações de cidade e estado dos estabelecimentos ativos\n",
        "\n",
        "Essas informações estão dentro de `establishmentunits`, dentro da propriedade `address`.\n"
      ],
      "metadata": {
        "id": "pLPvLvR2pG-S"
      }
    },
    {
      "cell_type": "code",
      "source": [
        ""
      ],
      "metadata": {
        "id": "7W5YHiDfpGVG"
      },
      "execution_count": null,
      "outputs": []
    },
    {
      "cell_type": "markdown",
      "source": [
        "## Resgate a quantidade de mensagens recebidas para cada intenção no desde o começo do dia de ontem"
      ],
      "metadata": {
        "id": "8MljWZWopDOf"
      }
    },
    {
      "cell_type": "code",
      "source": [
        ""
      ],
      "metadata": {
        "id": "8lJ7haV3pEEa"
      },
      "execution_count": null,
      "outputs": []
    },
    {
      "cell_type": "markdown",
      "source": [
        "## Obtenha uma lista dos clientes de acordo com cada nota dada para o NPS abaixo de 7 desde o dia 1 de dezembro de 2021"
      ],
      "metadata": {
        "id": "9EpV7Ya8pEnp"
      }
    },
    {
      "cell_type": "code",
      "source": [
        ""
      ],
      "metadata": {
        "id": "YBCseumMpE2L"
      },
      "execution_count": null,
      "outputs": []
    },
    {
      "cell_type": "markdown",
      "source": [
        "## Resgate o total de cada uma notas NPS obtidas para cada mês desde agosto de 2021"
      ],
      "metadata": {
        "id": "9WiiTzldpFNk"
      }
    },
    {
      "cell_type": "code",
      "source": [
        ""
      ],
      "metadata": {
        "id": "8YKdflh-pFfm"
      },
      "execution_count": null,
      "outputs": []
    },
    {
      "cell_type": "markdown",
      "source": [
        "## Retorne as quantidades relativas a cada um dos métodos de pagamento utilizados pelos estabelecimentos\n",
        "\n",
        "Quantos trabalham com cada tipo de método de pagamento?\n",
        "\n",
        "Realize uma contagem dos tipos de cartão de crédito diferentes para sabermos qual é o mais utilizado\n",
        "\n",
        "Observação: \n",
        "\n",
        "MASTERCARD, mastercard, MASTER CARD e master card deverão ser contabilizados como um só tipo\n"
      ],
      "metadata": {
        "id": "xOLJybP-pFxe"
      }
    },
    {
      "cell_type": "code",
      "source": [
        ""
      ],
      "metadata": {
        "id": "aDnr344o9AhY"
      },
      "execution_count": null,
      "outputs": []
    },
    {
      "cell_type": "markdown",
      "source": [
        "## Retorne os 10 estabelecimentos em que os clientes mais retiraram cupons"
      ],
      "metadata": {
        "id": "rWfh1o5D9DsY"
      }
    },
    {
      "cell_type": "code",
      "source": [
        ""
      ],
      "metadata": {
        "id": "mMzJssC69D_4"
      },
      "execution_count": null,
      "outputs": []
    },
    {
      "cell_type": "markdown",
      "source": [
        "## Retorne os 10 estabelecimentos em que os clientes mais retiraram prêmios do programa de fidelidade\n",
        "\n",
        "Observação: Explore os documentos da coleção para descobrir quando um prêmio já foi retirado"
      ],
      "metadata": {
        "id": "tXjrGK5D9Ebl"
      }
    },
    {
      "cell_type": "code",
      "source": [
        ""
      ],
      "metadata": {
        "id": "dfRAeklO9Et4"
      },
      "execution_count": null,
      "outputs": []
    },
    {
      "cell_type": "markdown",
      "source": [
        "## Retorne a quantidade de prêmios ainda a serem retirados por clientes de cada um dos estabelecimentos **com plano de fidelidade ativo**"
      ],
      "metadata": {
        "id": "bKuJwmhe9E7v"
      }
    },
    {
      "cell_type": "code",
      "source": [
        ""
      ],
      "metadata": {
        "id": "MfLEnl-O9-u3"
      },
      "execution_count": null,
      "outputs": []
    },
    {
      "cell_type": "markdown",
      "source": [
        "## Retorne todos os clientes que faltam apenas um ponto para que eles consigam ganhar o prêmio do plano fidelidade\n",
        "\n",
        "Só deveremos considerar aqueles que possuem o plano de fidelidade ativo"
      ],
      "metadata": {
        "id": "3_kmNaI--OYl"
      }
    },
    {
      "cell_type": "code",
      "source": [
        ""
      ],
      "metadata": {
        "id": "Pnv-4-0Q-Oz6"
      },
      "execution_count": null,
      "outputs": []
    },
    {
      "cell_type": "markdown",
      "source": [
        "## Retorne o cliente que mais realizou ações durante um atendimento no último dia"
      ],
      "metadata": {
        "id": "zl_MwNY5-PBV"
      }
    },
    {
      "cell_type": "code",
      "source": [
        ""
      ],
      "metadata": {
        "id": "F1ma9cY2-PSE"
      },
      "execution_count": null,
      "outputs": []
    },
    {
      "cell_type": "markdown",
      "source": [
        "## Retorne os 10 estabelecimentos que possuem mais itens **disponíveis** no cardápio\n",
        "\n",
        "Quando um item não está disponível, a propriedade `deleted` dele está **setada** como `True`"
      ],
      "metadata": {
        "id": "Ij6bfb34-Pk0"
      }
    },
    {
      "cell_type": "code",
      "source": [
        ""
      ],
      "metadata": {
        "id": "t7vlhZl0-P7n"
      },
      "execution_count": null,
      "outputs": []
    },
    {
      "cell_type": "markdown",
      "source": [
        "## Quais são os 5 estabelecimentos com maior quantidade de preços promocionais disponíveis?\n",
        "\n",
        "Preços promocionais são aqueles que contém a propriedade `is_promotion` igual a `True`, dentro do preço incluso no objeto dos preços por dia da semana (`week`), na coleção `item_prices`"
      ],
      "metadata": {
        "id": "hS_7a2YV_Rbo"
      }
    },
    {
      "cell_type": "code",
      "source": [
        ""
      ],
      "metadata": {
        "id": "M95Pw932_RwM"
      },
      "execution_count": null,
      "outputs": []
    },
    {
      "cell_type": "markdown",
      "source": [
        "## Qual a quantidade em meses que cada um dos estabelecimentos ativos estão na plataforma?\n",
        "\n",
        "Para este exemplo (atenção, somente para este, no cenário real isso \"não poderia\" ser feito dessa forma), considere a data de entrada como a data de criação do documento de cada um dos estabelecimentos `createdAt`."
      ],
      "metadata": {
        "id": "lJyGQC6s_R9_"
      }
    },
    {
      "cell_type": "code",
      "source": [
        ""
      ],
      "metadata": {
        "id": "THLMrg7R_SPa"
      },
      "execution_count": null,
      "outputs": []
    },
    {
      "cell_type": "markdown",
      "source": [
        "## Quais é a frase mais comum de cada uma das intenções do bot?\n",
        "\n",
        "Observação: se a intenção foi igual a mensagem, esta mensagem deve ser desconsiderada"
      ],
      "metadata": {
        "id": "R2bD6I39_Sl3"
      }
    },
    {
      "cell_type": "code",
      "source": [
        ""
      ],
      "metadata": {
        "id": "Vh6bEdRX_S1T"
      },
      "execution_count": null,
      "outputs": []
    },
    {
      "cell_type": "markdown",
      "source": [
        "## Quantos estabelecimentos ativos temos em cada uma das regiões do país?"
      ],
      "metadata": {
        "id": "194SkQdyb1bf"
      }
    },
    {
      "cell_type": "code",
      "source": [
        ""
      ],
      "metadata": {
        "id": "tqR-e4MVb49r"
      },
      "execution_count": null,
      "outputs": []
    }
  ]
}
