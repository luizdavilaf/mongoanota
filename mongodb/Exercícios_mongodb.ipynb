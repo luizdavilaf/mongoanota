{
  "cells": [
    {
      "cell_type": "markdown",
      "metadata": {
        "id": "Ju4lrHjcji7i"
      },
      "source": [
        "# Exercícios banco"
      ]
    },
    {
      "cell_type": "markdown",
      "metadata": {
        "id": "-Du0yOWfjrZh"
      },
      "source": [
        "Segue abaixo uma descrição das coleções a serem utilizadas nas tarefas seguintes:\n",
        "\n",
        "Coleções presentes no banco de `analytics`:\n",
        "\n",
        "**Banco principal**: `chatbot2`\n",
        "\n",
        "* `establishments`: Coleção que armazena dos documentos dos estabelecimentos;\n",
        "* `page`: Coleção que armazena os documentos relacionados a _page_ do estabelecimento;\n",
        "* `messages`: Coleção que armazena as mensagens personalizadas do bot;\n",
        "* `intentblocks`: Coleção que armazena as intenções do bot bloqueadas de serem respondidas por cada estabelecimento;\n",
        "* `orders`: Coleção que armazena objetos de pedidos dos clientes dos estabelecimentos;\n",
        "* `bills`: Coleção que armazena objetos referentes as faturas dos estabelecimentos no sistema;\n",
        "* `establishmentunits`: Coleção que armazena dados das unidades do estabelecimento \n",
        "* `client_nps`: Coleção que armazena as respostas da pesquisa de NPS realizadas com clientes dos estabelecimentos\n",
        "* `clientcoupons`: Coleção que armazena cupons retirados pelos clientes dos estabelecimentos\n",
        "* `clientgifts`: Coleção que armazena os presentes ganhos pelos clientes no plano de fidelidade\n",
        "* `modules`: Coleção que armazena os módulos do sistema\n",
        "* `pagemodules`: Coleção que armazena os módulos que os estabelecimentos têm, e se eles estão ou não ativos assim como a data de contração.\n",
        "* `item_prices`: Coleção que armazena os preços dos itens em cada dia da semana dos itens dos estabelecimentos\n",
        "* `clients`: Coleção que armazena as informações dos clientes\n",
        "\n",
        "Coleções presentes no banco `messages` (banco utilizado também para métricas:\n",
        "\n",
        "**Banco principal**: `messages-bot-production`\n",
        "\n",
        "* `messages`: Coleção que armazena as mensagens recebidas;\n",
        "\n",
        "\n",
        "**Importante**: \n",
        "* Todas as operações que pedirem informações de um estabelecimento específico, deveremos utilizar a seguinte referência `page` para o objetivo: `ObjectId(\"5a0df4fc1e8bf00dcccccf7c\")`\n",
        "* Todos os resultados obtidos devem ser obtidos **somente utilizando consultas ao banco**\n",
        "* Caso seja necessário, o repositório que guarda as *models* de cada uma das coleções está no seguinte link: https://github.com/githubanotaai/models\n",
        "  "
      ]
    },
    {
      "cell_type": "markdown",
      "metadata": {
        "id": "-cN0WVYYjoAY"
      },
      "source": [
        "## Resgaste todos os estabelecimentos ativos da plataforma \n",
        "\n",
        "Estabelecimentos ativos são aqueles que possuem valor `True` para a propriedade `sign.active`"
      ]
    },
    {
      "cell_type": "code",
      "execution_count": null,
      "metadata": {
        "id": "gm-zvXrsjh8p"
      },
      "outputs": [],
      "source": [
        " "
      ]
    },
    {
      "cell_type": "markdown",
      "metadata": {
        "id": "hS9X3PtUkiB_"
      },
      "source": [
        "## Resgate todos os estabelecimentos que entraram na plataforma antes de agosto de 2021\n",
        "\n",
        "Podemos considerar a data de criação do objeto (somente neste exemplo) para induzir a data de entrada (`createdAt`)"
      ]
    },
    {
      "cell_type": "code",
      "execution_count": null,
      "metadata": {
        "id": "DXCTLupFknbL"
      },
      "outputs": [],
      "source": []
    },
    {
      "cell_type": "markdown",
      "metadata": {
        "id": "CCFx7sB4kmyM"
      },
      "source": [
        "## Resgate quantos clientes tem o estabelecimento especificado"
      ]
    },
    {
      "cell_type": "code",
      "execution_count": null,
      "metadata": {
        "id": "hS6nBsJfn6w3"
      },
      "outputs": [],
      "source": []
    },
    {
      "cell_type": "markdown",
      "metadata": {
        "id": "SkJkMWBZn7EU"
      },
      "source": [
        "## Resgate quantos clientes realizaram pedido no estabelecimento especificado\n"
      ]
    },
    {
      "cell_type": "code",
      "execution_count": null,
      "metadata": {
        "id": "99NTxJMwoEr_"
      },
      "outputs": [],
      "source": []
    },
    {
      "cell_type": "markdown",
      "metadata": {
        "id": "4sIvDaMWoFLa"
      },
      "source": [
        "## Resgate quais são as intenções bloqueadas do estabelecimento especificado"
      ]
    },
    {
      "cell_type": "code",
      "execution_count": null,
      "metadata": {
        "id": "giLVo9CPofJU"
      },
      "outputs": [],
      "source": []
    },
    {
      "cell_type": "markdown",
      "metadata": {
        "id": "yCpN6AKtofe0"
      },
      "source": [
        "## Resgate quantos estabelecimentos possuem a intenção `observation` bloqueada independente do canal"
      ]
    },
    {
      "cell_type": "code",
      "execution_count": null,
      "metadata": {
        "id": "IxsqDaaMpAyQ"
      },
      "outputs": [],
      "source": []
    },
    {
      "cell_type": "markdown",
      "metadata": {
        "id": "umIofkSypCX0"
      },
      "source": [
        "## Resgate todos os estabelecimentos que tiveram valor de fatura superior a 200 reais no último mês"
      ]
    },
    {
      "cell_type": "code",
      "execution_count": null,
      "metadata": {
        "id": "sjv8QUZipB89"
      },
      "outputs": [],
      "source": []
    },
    {
      "cell_type": "markdown",
      "metadata": {
        "id": "2U4zvUv2pCvR"
      },
      "source": [
        "## Resgate a quantidade de pedidos relativa a cada possível `check` _(status do pedido)_ do estabelecimento selecionado\n",
        "\n",
        "* `check` é o campo que corresponde ao status do pedido;\n",
        "\n",
        "Por exemplo, para cada valor de `check` possível, deveremos retornar a quantidade de pedidos dentro de cada um dos possíveis conjuntos."
      ]
    },
    {
      "cell_type": "code",
      "execution_count": null,
      "metadata": {
        "id": "6_lq_992pDA2"
      },
      "outputs": [],
      "source": []
    },
    {
      "cell_type": "markdown",
      "metadata": {
        "id": "hcQYAF-2pHPS"
      },
      "source": [
        "## Resgate a quantidade de mensagens existentes no banco que contém cada uma das palavras `pedido` e cardápio\n",
        "\n",
        "O objetivo é saber quantas mensagens tiveram a palavra pedido e quantas tiveram a palavra cardápio"
      ]
    },
    {
      "cell_type": "code",
      "execution_count": null,
      "metadata": {
        "id": "0gKeYNe6pDef"
      },
      "outputs": [],
      "source": []
    },
    {
      "cell_type": "markdown",
      "metadata": {
        "id": "pLPvLvR2pG-S"
      },
      "source": [
        "## Resgate **somente** as informações de cidade e estado dos estabelecimentos ativos\n",
        "\n",
        "Essas informações estão dentro de `establishmentunits`, dentro da propriedade `address`.\n"
      ]
    },
    {
      "cell_type": "code",
      "execution_count": null,
      "metadata": {
        "id": "7W5YHiDfpGVG"
      },
      "outputs": [],
      "source": []
    },
    {
      "cell_type": "markdown",
      "metadata": {
        "id": "8MljWZWopDOf"
      },
      "source": [
        "## Resgate a quantidade de mensagens recebidas para cada intenção no desde o começo do dia de ontem\n",
        "\n",
        "Observação: se a intenção foi igual a mensagem, a mesma deve ser desconsiderada"
      ]
    },
    {
      "cell_type": "code",
      "execution_count": null,
      "metadata": {
        "id": "8lJ7haV3pEEa"
      },
      "outputs": [],
      "source": []
    },
    {
      "cell_type": "markdown",
      "metadata": {
        "id": "9EpV7Ya8pEnp"
      },
      "source": [
        "## Obtenha uma lista dos clientes de acordo com cada nota dada para o NPS abaixo de 7 desde o dia 1 de dezembro de 2021"
      ]
    },
    {
      "cell_type": "code",
      "execution_count": null,
      "metadata": {
        "id": "YBCseumMpE2L"
      },
      "outputs": [],
      "source": []
    },
    {
      "cell_type": "markdown",
      "metadata": {
        "id": "9WiiTzldpFNk"
      },
      "source": [
        "## Resgate o total de cada uma notas NPS obtidas para cada mês desde agosto de 2021"
      ]
    },
    {
      "cell_type": "code",
      "execution_count": null,
      "metadata": {
        "id": "8YKdflh-pFfm"
      },
      "outputs": [],
      "source": []
    },
    {
      "cell_type": "markdown",
      "metadata": {
        "id": "xOLJybP-pFxe"
      },
      "source": [
        "## Retorne as quantidades relativas a cada um dos métodos de pagamento utilizados pelos estabelecimentos\n",
        "\n",
        "Quantos trabalham com cada tipo de método de pagamento?\n",
        "\n",
        "Realize uma contagem dos tipos de cartão de crédito diferentes para sabermos qual é o mais utilizado\n",
        "\n",
        "Observação: \n",
        "\n",
        "MASTERCARD, mastercard, MASTER CARD e master card deverão ser contabilizados como um só tipo\n"
      ]
    },
    {
      "cell_type": "code",
      "execution_count": null,
      "metadata": {
        "id": "aDnr344o9AhY"
      },
      "outputs": [],
      "source": []
    },
    {
      "cell_type": "markdown",
      "metadata": {
        "id": "rWfh1o5D9DsY"
      },
      "source": [
        "## Retorne os 10 estabelecimentos em que os clientes mais retiraram cupons"
      ]
    },
    {
      "cell_type": "code",
      "execution_count": null,
      "metadata": {
        "id": "mMzJssC69D_4"
      },
      "outputs": [],
      "source": []
    },
    {
      "cell_type": "markdown",
      "metadata": {
        "id": "tXjrGK5D9Ebl"
      },
      "source": [
        "## Retorne os 10 estabelecimentos em que os clientes mais retiraram prêmios do programa de fidelidade\n",
        "\n",
        "Observação: Explore os documentos da coleção para descobrir quando um prêmio já foi retirado"
      ]
    },
    {
      "cell_type": "code",
      "execution_count": null,
      "metadata": {
        "id": "dfRAeklO9Et4"
      },
      "outputs": [],
      "source": []
    },
    {
      "cell_type": "markdown",
      "metadata": {
        "id": "bKuJwmhe9E7v"
      },
      "source": [
        "## Retorne a quantidade de prêmios ainda a serem retirados por clientes de cada um dos estabelecimentos **com plano de fidelidade ativo**"
      ]
    },
    {
      "cell_type": "code",
      "execution_count": null,
      "metadata": {
        "id": "MfLEnl-O9-u3"
      },
      "outputs": [],
      "source": []
    },
    {
      "cell_type": "markdown",
      "metadata": {
        "id": "3_kmNaI--OYl"
      },
      "source": [
        "## Retorne todos os clientes que faltam apenas um ponto para que eles consigam ganhar o prêmio do plano fidelidade\n",
        "\n",
        "Só deveremos considerar aqueles que possuem o plano de fidelidade ativo"
      ]
    },
    {
      "cell_type": "code",
      "execution_count": null,
      "metadata": {
        "id": "Pnv-4-0Q-Oz6"
      },
      "outputs": [],
      "source": []
    },
    {
      "cell_type": "markdown",
      "metadata": {
        "id": "zl_MwNY5-PBV"
      },
      "source": [
        "## Retorne o cliente que mais realizou ações durante um atendimento no último dia"
      ]
    },
    {
      "cell_type": "code",
      "execution_count": null,
      "metadata": {
        "id": "F1ma9cY2-PSE"
      },
      "outputs": [],
      "source": []
    },
    {
      "cell_type": "markdown",
      "metadata": {
        "id": "Ij6bfb34-Pk0"
      },
      "source": [
        "## Retorne os 10 estabelecimentos que possuem mais itens **disponíveis** no cardápio\n",
        "\n",
        "Quando um item não está disponível, a propriedade `deleted` dele está **setada** como `True`"
      ]
    },
    {
      "cell_type": "code",
      "execution_count": null,
      "metadata": {
        "id": "t7vlhZl0-P7n"
      },
      "outputs": [],
      "source": []
    },
    {
      "cell_type": "markdown",
      "metadata": {
        "id": "hS_7a2YV_Rbo"
      },
      "source": [
        "## Quais são os 5 estabelecimentos com maior quantidade de preços promocionais disponíveis?\n",
        "\n",
        "Preços promocionais são aqueles que contém a propriedade `is_promotion` igual a `True`, dentro do preço incluso no objeto dos preços por dia da semana (`week`), na coleção `item_prices`"
      ]
    },
    {
      "cell_type": "code",
      "execution_count": null,
      "metadata": {
        "id": "M95Pw932_RwM"
      },
      "outputs": [],
      "source": []
    },
    {
      "cell_type": "markdown",
      "metadata": {
        "id": "lJyGQC6s_R9_"
      },
      "source": [
        "## Qual a quantidade em meses que cada um dos estabelecimentos ativos estão na plataforma?\n",
        "\n",
        "Para este exemplo (atenção, somente para este, no cenário real isso \"não poderia\" ser feito dessa forma), considere a data de entrada como a data de criação do documento de cada um dos estabelecimentos `createdAt`."
      ]
    },
    {
      "cell_type": "code",
      "execution_count": null,
      "metadata": {
        "id": "THLMrg7R_SPa"
      },
      "outputs": [],
      "source": []
    },
    {
      "cell_type": "markdown",
      "metadata": {
        "id": "R2bD6I39_Sl3"
      },
      "source": [
        "## Quais é a frase mais comum de cada uma das intenções do bot?\n",
        "\n",
        "Observação: se a intenção foi igual a mensagem, esta mensagem deve ser desconsiderada\n",
        "Observação: considerar apenas mensagens enviadas no dia de ontem"
      ]
    },
    {
      "cell_type": "code",
      "execution_count": null,
      "metadata": {
        "id": "Vh6bEdRX_S1T"
      },
      "outputs": [],
      "source": []
    },
    {
      "cell_type": "markdown",
      "metadata": {
        "id": "194SkQdyb1bf"
      },
      "source": [
        "## Quantos estabelecimentos ativos temos em cada uma das regiões do país?"
      ]
    },
    {
      "cell_type": "code",
      "execution_count": null,
      "metadata": {
        "id": "tqR-e4MVb49r"
      },
      "outputs": [],
      "source": []
    }
  ],
  "metadata": {
    "colab": {
      "name": "Exercícios mongodb.ipynb",
      "provenance": []
    },
    "kernelspec": {
      "display_name": "Python 3",
      "name": "python3"
    },
    "language_info": {
      "name": "python"
    }
  },
  "nbformat": 4,
  "nbformat_minor": 0
}
