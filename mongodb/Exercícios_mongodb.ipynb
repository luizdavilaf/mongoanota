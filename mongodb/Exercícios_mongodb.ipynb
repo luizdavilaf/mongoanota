{
  "cells": [
    {
      "cell_type": "markdown",
      "metadata": {
        "id": "Ju4lrHjcji7i"
      },
      "source": [
        "# Exercícios banco"
      ]
    },
    {
      "cell_type": "markdown",
      "metadata": {
        "id": "-Du0yOWfjrZh"
      },
      "source": [
        "Segue abaixo uma descrição das coleções a serem utilizadas nas tarefas seguintes:\n",
        "\n",
        "Coleções presentes no banco de `analytics`:\n",
        "\n",
        "**Banco principal**: `chatbot2`\n",
        "\n",
        "* `establishments`: Coleção que armazena dos documentos dos estabelecimentos;\n",
        "* `page`: Coleção que armazena os documentos relacionados a _page_ do estabelecimento;\n",
        "* `messages`: Coleção que armazena as mensagens personalizadas do bot;\n",
        "* `intentblocks`: Coleção que armazena as intenções do bot bloqueadas de serem respondidas por cada estabelecimento;\n",
        "* `orders`: Coleção que armazena objetos de pedidos dos clientes dos estabelecimentos;\n",
        "* `bills`: Coleção que armazena objetos referentes as faturas dos estabelecimentos no sistema;\n",
        "* `establishmentunits`: Coleção que armazena dados das unidades do estabelecimento \n",
        "* `client_nps`: Coleção que armazena as respostas da pesquisa de NPS realizadas com clientes dos estabelecimentos\n",
        "* `clientcoupons`: Coleção que armazena cupons retirados pelos clientes dos estabelecimentos\n",
        "* `clientgifts`: Coleção que armazena os presentes ganhos pelos clientes no plano de fidelidade\n",
        "* `modules`: Coleção que armazena os módulos do sistema\n",
        "* `pagemodules`: Coleção que armazena os módulos que os estabelecimentos têm, e se eles estão ou não ativos assim como a data de contração.\n",
        "* `item_prices`: Coleção que armazena os preços dos itens em cada dia da semana dos itens dos estabelecimentos\n",
        "* `clients`: Coleção que armazena as informações dos clientes\n",
        "## * `clientactions`: Coleção que armazena as ações dos clientes\n",
        "\n",
        "Coleções presentes no banco `messages` (banco utilizado também para métricas:\n",
        "\n",
        "**Banco principal**: `messages-bot-production`\n",
        "\n",
        "* `messages`: Coleção que armazena as mensagens recebidas;\n",
        "\n",
        "\n",
        "**Importante**: \n",
        "* Todas as operações que pedirem informações de um estabelecimento específico, deveremos utilizar a seguinte referência `page` para o objetivo: `ObjectId(\"5a0df4fc1e8bf00dcccccf7c\")`\n",
        "* Todos os resultados obtidos devem ser obtidos **somente utilizando consultas ao banco**\n",
        "* Caso seja necessário, o repositório que guarda as *models* de cada uma das coleções está no seguinte link: https://github.com/githubanotaai/models\n",
        "  "
      ]
    },
    {
      "cell_type": "markdown",
      "metadata": {
        "id": "-cN0WVYYjoAY"
      },
      "source": [
        "## Resgate todos os estabelecimentos ativos da plataforma \n",
        "\n",
        "Estabelecimentos ativos são aqueles que possuem valor `True` para a propriedade `sign.active`"
      ]
    },
    {
      "cell_type": "code",
      "execution_count": null,
      "metadata": {
        "id": "gm-zvXrsjh8p",
        "vscode": {
          "languageId": "javascript"
        }
      },
      "outputs": [],
      "source": [
        "db.establishments.find({ \"sign.active\": true },{page:1, _id:0});   "
      ]
    },
    {
      "cell_type": "markdown",
      "metadata": {
        "id": "hS9X3PtUkiB_"
      },
      "source": [
        "## Resgate todos os estabelecimentos que entraram na plataforma antes de agosto de 2021\n",
        "\n",
        "Podemos considerar a data de criação do objeto (somente neste exemplo) para induzir a data de entrada (`createdAt`)"
      ]
    },
    {
      "cell_type": "code",
      "execution_count": null,
      "metadata": {
        "id": "DXCTLupFknbL",
        "vscode": {
          "languageId": "javascript"
        }
      },
      "outputs": [],
      "source": [
        "db.establishments.find({\"createdAt\": {\"$lt\": ISODate(\"2021-08-01\")}},{createdAt:1, _id:0})\n"
      ]
    },
    {
      "cell_type": "markdown",
      "metadata": {
        "id": "CCFx7sB4kmyM"
      },
      "source": [
        "## Resgate quantos clientes tem o estabelecimento especificado"
      ]
    },
    {
      "cell_type": "code",
      "execution_count": null,
      "metadata": {
        "id": "hS6nBsJfn6w3"
      },
      "outputs": [],
      "source": [
        "db.clients.find({\"page\": ObjectId(\"5a0df4fc1e8bf00dcccccf7c\")}).count()\n"
      ]
    },
    {
      "cell_type": "markdown",
      "metadata": {
        "id": "SkJkMWBZn7EU"
      },
      "source": [
        "## Resgate quantos clientes realizaram pedido no estabelecimento especificado\n"
      ]
    },
    {
      "cell_type": "code",
      "execution_count": null,
      "metadata": {
        "id": "99NTxJMwoEr_",
        "vscode": {
          "languageId": "javascript"
        }
      },
      "outputs": [],
      "source": [
        "db.orders.aggregate(\n",
        "  {\n",
        "    $match: { page: ObjectId(\"5a0df4fc1e8bf00dcccccf7c\") },\n",
        "  },\n",
        "  {\n",
        "    $group: {\n",
        "      _id: \"$page\",\n",
        "      count: { $sum: 1 },\n",
        "    },\n",
        "  }\n",
        ");\n",
        "\n",
        "6747;\n"
      ]
    },
    {
      "cell_type": "markdown",
      "metadata": {
        "id": "4sIvDaMWoFLa"
      },
      "source": [
        "## Resgate quais são as intenções bloqueadas do estabelecimento especificado"
      ]
    },
    {
      "cell_type": "code",
      "execution_count": null,
      "metadata": {
        "id": "giLVo9CPofJU"
      },
      "outputs": [],
      "source": [
        "db.intentsblocks.find(\n",
        "    {page: ObjectId(\"5a0df4fc1e8bf00dcccccf7c\")}, {whatsapp: 1, _id: 0, facebook: 1}\n",
        ")\n",
        "\n",
        "\n"
      ]
    },
    {
      "cell_type": "markdown",
      "metadata": {
        "id": "yCpN6AKtofe0"
      },
      "source": [
        "## Resgate quantos estabelecimentos possuem a intenção `observation` bloqueada independente do canal"
      ]
    },
    {
      "cell_type": "code",
      "execution_count": null,
      "metadata": {
        "id": "IxsqDaaMpAyQ",
        "vscode": {
          "languageId": "javascript"
        }
      },
      "outputs": [],
      "source": [
        "db.intentsblocks.find(\n",
        "  { $or: [{ \"whatsapp\" : {$regex: \"observation\"} }, {\"facebook\" : {$regex: \"observation\"} }] }  \n",
        " ).count()\n",
        "\n",
        " 54"
      ]
    },
    {
      "cell_type": "markdown",
      "metadata": {
        "id": "umIofkSypCX0"
      },
      "source": [
        "## Resgate todos os estabelecimentos que tiveram valor de fatura superior a 200 reais no último mês"
      ]
    },
    {
      "cell_type": "code",
      "execution_count": null,
      "metadata": {
        "id": "sjv8QUZipB89",
        "vscode": {
          "languageId": "javascript"
        }
      },
      "outputs": [],
      "source": [
        "var firstDayOfLastMonth=new Date();\n",
        "firstDayOfLastMonth.setMonth(firstDayOfLastMonth.getMonth() - 1);\n",
        "firstDayOfLastMonth.setDate(1);\n",
        "var lastDayOfLastMonth=new Date();\n",
        "lastDayOfLastMonth.setDate(1);\n",
        "lastDayOfLastMonth.setDate(lastDayOfLastMonth.getDate() - 1);\n",
        "db.bills.aggregate([\n",
        "  {\n",
        "    $match: \n",
        "    {\n",
        "      $and: [{createdAt:{$gte:  firstDayOfLastMonth  }},{createdAt:{$lte:lastDayOfLastMonth}},{\"totalBill\": { $gt: 200 }}],      \n",
        "    }\n",
        "  },\n",
        "  { $project: { _id: 1, createdAt: 1, totalBill:1 } } \n",
        "]);"
      ]
    },
    {
      "cell_type": "markdown",
      "metadata": {
        "id": "2U4zvUv2pCvR"
      },
      "source": [
        "## Resgate a quantidade de pedidos relativa a cada possível `check` _(status do pedido)_ do estabelecimento selecionado\n",
        "\n",
        "* `check` é o campo que corresponde ao status do pedido;\n",
        "\n",
        "Por exemplo, para cada valor de `check` possível, deveremos retornar a quantidade de pedidos dentro de cada um dos possíveis conjuntos."
      ]
    },
    {
      "cell_type": "code",
      "execution_count": null,
      "metadata": {
        "id": "6_lq_992pDA2",
        "vscode": {
          "languageId": "javascript"
        }
      },
      "outputs": [],
      "source": [
        "db.orders.aggregate(\n",
        "  {\n",
        "    $match: { page: ObjectId(\"5a0df4fc1e8bf00dcccccf7c\") },\n",
        "  },\n",
        "  {\n",
        "    $group: {\n",
        "      _id: \"$check\",\n",
        "      count: { $sum: 1 },\n",
        "    },\n",
        "  },\n",
        "  {\n",
        "    $sort: {_id:1}\n",
        "  }\n",
        ");\n",
        "\n",
        "[\n",
        "  { _id: 3, count: 5503 },\n",
        "  { _id: 4, count: 154 },\n",
        "  { _id: 5, count: 1024 },\n",
        "  { _id: 6, count: 66 }\n",
        "]"
      ]
    },
    {
      "cell_type": "markdown",
      "metadata": {
        "id": "hcQYAF-2pHPS"
      },
      "source": [
        "## Resgate a quantidade de mensagens existentes no banco que contém cada uma das palavras `pedido` e cardápio\n",
        "\n",
        "O objetivo é saber quantas mensagens tiveram a palavra pedido e quantas tiveram a palavra cardápio"
      ]
    },
    {
      "cell_type": "code",
      "execution_count": null,
      "metadata": {
        "id": "0gKeYNe6pDef",
        "vscode": {
          "languageId": "javascript"
        }
      },
      "outputs": [],
      "source": [
        "sem acesso ao banco de msgs"
      ]
    },
    {
      "cell_type": "markdown",
      "metadata": {
        "id": "pLPvLvR2pG-S"
      },
      "source": [
        "## Resgate **somente** as informações de cidade e estado dos estabelecimentos ativos\n",
        "\n",
        "Essas informações estão dentro de `establishmentunits`, dentro da propriedade `address`.\n"
      ]
    },
    {
      "cell_type": "code",
      "execution_count": null,
      "metadata": {
        "id": "7W5YHiDfpGVG"
      },
      "outputs": [],
      "source": [
        "db.establishments.aggregate([\n",
        "  {\n",
        "    $match: {\n",
        "      \"sign.active\": true\n",
        "    },\n",
        "  },\n",
        "  {\n",
        "    $lookup: {\n",
        "      from: \"establishmentunits\",\n",
        "      foreignField: \"page\",\n",
        "      localField: \"page\",\n",
        "      as: \"enderecos\",\n",
        "    },\n",
        "  },\n",
        "  { $project: {_id:0, page:1, \"enderecos.address.city\": 1, \"enderecos.address.state\": 1 } }\n",
        "]);"
      ]
    },
    {
      "cell_type": "markdown",
      "metadata": {
        "id": "8MljWZWopDOf"
      },
      "source": [
        "## Resgate a quantidade de mensagens recebidas para cada intenção no desde o começo do dia de ontem\n",
        "\n",
        "Observação: se a intenção foi igual a mensagem, a mesma deve ser desconsiderada"
      ]
    },
    {
      "cell_type": "code",
      "execution_count": null,
      "metadata": {
        "id": "8lJ7haV3pEEa"
      },
      "outputs": [],
      "source": [
        "\n"
      ]
    },
    {
      "cell_type": "markdown",
      "metadata": {
        "id": "9EpV7Ya8pEnp"
      },
      "source": [
        "## Obtenha uma lista dos clientes de acordo com cada nota dada para o NPS abaixo de 7 desde o dia 1 de dezembro de 2021"
      ]
    },
    {
      "cell_type": "code",
      "execution_count": null,
      "metadata": {
        "id": "YBCseumMpE2L",
        "vscode": {
          "languageId": "javascript"
        }
      },
      "outputs": [],
      "source": [
        "db.client_nps.aggregate([\n",
        "  {\n",
        "    $match: {\n",
        "      \n",
        "      $and: [\n",
        "        { createdAt: { $gte: ISODate(\"2021-12-01\") } },        \n",
        "        { rating: { $lt: 7 } },\n",
        "      ]\n",
        "    },\n",
        "  },\n",
        "  {\n",
        "    $lookup: {\n",
        "      from: \"clients\",\n",
        "      foreignField: \"_id\",\n",
        "      localField: \"client\",\n",
        "      as: \"cliente\",\n",
        "    },\n",
        "  },\n",
        "  { $project: {_id:0, \"cliente.name\": 1, rating:1 } }\n",
        "]);"
      ]
    },
    {
      "cell_type": "markdown",
      "metadata": {
        "id": "9WiiTzldpFNk"
      },
      "source": [
        "## Resgate o total de cada uma notas NPS obtidas para cada mês desde agosto de 2021"
      ]
    },
    {
      "cell_type": "code",
      "execution_count": null,
      "metadata": {
        "id": "8YKdflh-pFfm",
        "vscode": {
          "languageId": "javascript"
        }
      },
      "outputs": [],
      "source": [
        "db.client_nps.aggregate([\n",
        "  {\n",
        "    $match: {\n",
        "         createdAt: { $gte: ISODate(\"2021-08-01\") }         \n",
        "    }\n",
        "  },  \n",
        "  {\n",
        "    $group: {\n",
        "      _id: { \n",
        "        year: { $year: \"$createdAt\" }, \n",
        "        month: { $month: \"$createdAt\" } ,\n",
        "        rating: \"$rating\"\n",
        "      },      \n",
        "      count: { $sum: 1 },      \n",
        "    },\n",
        "  },\n",
        "  {\n",
        "    $sort: {_id:1}\n",
        "  }\n",
        "]);"
      ]
    },
    {
      "cell_type": "markdown",
      "metadata": {
        "id": "xOLJybP-pFxe"
      },
      "source": [
        "## Retorne as quantidades relativas a cada um dos métodos de pagamento utilizados pelos estabelecimentos\n",
        "\n",
        "Quantos trabalham com cada tipo de método de pagamento?\n",
        "\n",
        "Realize uma contagem dos tipos de cartão de crédito diferentes para sabermos qual é o mais utilizado\n",
        "\n",
        "Observação: \n",
        "\n",
        "MASTERCARD, mastercard, MASTER CARD e master card deverão ser contabilizados como um só tipo\n"
      ]
    },
    {
      "cell_type": "code",
      "execution_count": null,
      "metadata": {
        "id": "aDnr344o9AhY"
      },
      "outputs": [],
      "source": [
        "db.establishmentunits.aggregate([\n",
        "  { $match: { credit_cards: { $exists: true, $ne: [] } } },\n",
        "  { $unwind: \"$credit_cards\" },\n",
        "  {\n",
        "    $project: {\n",
        "      \"credit_cards.name\": {\n",
        "        $cond: [\n",
        "          { $eq: [\"$credit_cards.name\",  \"MASTER\" ] },\n",
        "          \"Mastercard\",\n",
        "          {\n",
        "            $cond: [\n",
        "              { $eq: [\"$credit_cards.name\",  \"MASTERCARD\"] },\n",
        "              \"Mastercard\",\n",
        "              {\n",
        "                $cond: [\n",
        "                  { $eq: [\"$credit_cards.name\",  \"master card\"] },\n",
        "                  \"Mastercard\",\n",
        "                  {\n",
        "                    $cond: [\n",
        "                      { $eq: [\"$credit_cards.name\",  \"Master Card\"] },\n",
        "                      \"Mastercard\",\n",
        "                      {\n",
        "                        $cond: [\n",
        "                          { $eq: [\"$credit_cards.name\",  \"Master Card\"] },\n",
        "                          \"Mastercard\", \n",
        "                          {\n",
        "                            $cond: [\n",
        "                              { $eq: [\"$credit_cards.name\",  \"visa\"] },\n",
        "                              \"Visa\",   \n",
        "                              {\n",
        "                                $cond: [\n",
        "                                  { $eq: [\"$credit_cards.name\",  \"VISA\"] },\n",
        "                                  \"Visa\", \n",
        "                                  {\n",
        "                                    $cond: [\n",
        "                                      { $eq: [\"$credit_cards.name\",  'AMEX'] },\n",
        "                                      'American Express',      \n",
        "                                      {\n",
        "                                        $cond: [\n",
        "                                          { $eq: [\"$credit_cards.name\",  'ELO'] },\n",
        "                                          'Elo', \n",
        "                                          {\n",
        "                                            $cond: [\n",
        "                                              { $eq: [\"$credit_cards.name\",  'HIPERCARD'] },\n",
        "                                              'Hipercard',     \n",
        "                                              {\n",
        "                                                $cond: [\n",
        "                                                  { $eq: [\"$credit_cards.name\",  'PIX'] },\n",
        "                                                  'Pix', \n",
        "                                                  {\n",
        "                                                    $cond: [\n",
        "                                                      { $eq: [\"$credit_cards.name\",  'elo'] },\n",
        "                                                      'Elo', \n",
        "                                                      {\n",
        "                                                        $cond: [\n",
        "                                                          { $eq: [\"$credit_cards.name\",  'mastercard'] },\n",
        "                                                          'Mastercard',      {\n",
        "                                                            $cond: [\n",
        "                                                              { $eq: [\"$credit_cards.name\",  'Hiper'] },\n",
        "                                                              'Hipercard',       {\n",
        "                                                                $cond: [\n",
        "                                                                  { $eq: [\"$credit_cards.name\",  'ALELO'] },\n",
        "                                                                  'Alelo',       {\n",
        "                                                                    $cond: [\n",
        "                                                                      { $eq: [\"$credit_cards.name\",  'Master'] },\n",
        "                                                                      'Mastercard',       {\n",
        "                                                                        $cond: [\n",
        "                                                                          { $eq: [\"$credit_cards.name\",  'master'] },\n",
        "                                                                          'Mastercard',       {\n",
        "                                                                            $cond: [\n",
        "                                                                              { $eq: [\"$credit_cards.name\",  'BANRICOMPRAS'] },\n",
        "                                                                              'Banricompras',       {\n",
        "                                                                                $cond: [\n",
        "                                                                                  { $eq: [\"$credit_cards.name\",  'pix'] },\n",
        "                                                                                  'Pix',       {\n",
        "                                                                                    $cond: [\n",
        "                                                                                      { $eq: [\"$credit_cards.name\",  'SODEXO'] },\n",
        "                                                                                      'Sodexo',      \n",
        "                                                                                       {\n",
        "                                                                                        $cond: [\n",
        "                                                                                          { $eq: [\"$credit_cards.name\",  'Alelo Alimetação'] },\n",
        "                                                                                          'Alelo Alimentação',      \n",
        "                                                                                          {\n",
        "                                                                                            $cond: [\n",
        "                                                                                              { $eq: [\"$credit_cards.name\",  'hipercard'] },\n",
        "                                                                                              'Hipercard',       \n",
        "                                                                                              {\n",
        "                                                                                                $cond: [\n",
        "                                                                                                  { $eq: [\"$credit_cards.name\",  'Amex'] },\n",
        "                                                                                                  'American Express',       \n",
        "                                                                                                  {\n",
        "                                                                                                    $cond: [\n",
        "                                                                                                      { $eq: [\"$credit_cards.name\",  'Banri Compras'] },\n",
        "                                                                                                      'Banricompras',       \n",
        "                                                                                                      {\n",
        "                                                                                                        $cond: [\n",
        "                                                                                                          { $eq: [\"$credit_cards.name\",  'MasterCard'] },\n",
        "                                                                                                          'Mastercard',       \n",
        "                                                                                                          {\n",
        "                                                                                                            $cond: [\n",
        "                                                                                                              { $eq: [\"$credit_cards.name\",  'Elo.'] },\n",
        "                                                                                                              'Elo',       \n",
        "                                                                                                              {\n",
        "                                                                                                                $cond: [\n",
        "                                                                                                                  { $eq: [\"$credit_cards.name\",  'DINERS'] },\n",
        "                                                                                                                  'Diners Club',       \n",
        "                                                                                                                  {\n",
        "                                                                                                                    $cond: [\n",
        "                                                                                                                      { $eq: [\"$credit_cards.name\",  'DEBITO'] },\n",
        "                                                                                                                      'Débito',       \n",
        "                                                                                                                      {\n",
        "                                                                                                                        $cond: [\n",
        "                                                                                                                          { $eq: [\"$credit_cards.name\",  'CREDITO'] },\n",
        "                                                                                                                          'Crédito',       \n",
        "                                                                                                                          {\n",
        "                                                                                                                            $cond: [\n",
        "                                                                                                                              { $eq: [\"$credit_cards.name\",  'Debito'] },\n",
        "                                                                                                                              'Débito',       \n",
        "                                                                                                                              {\n",
        "                                                                                                                                $cond: [\n",
        "                                                                                                                                  { $eq: [\"$credit_cards.name\",  ' Master'] },\n",
        "                                                                                                                                  'Mastercard',        {\n",
        "                                                                                                                                    $cond: [\n",
        "                                                                                                                                      { $eq: [\"$credit_cards.name\",  ' AMERICAN EXPRESS'] },\n",
        "                                                                                                                                      'American Express',       \n",
        "                                                                                                                                      {\n",
        "                                                                                                                                        $cond: [\n",
        "                                                                                                                                          { $eq: [\"$credit_cards.name\",  ' American Express'] },\n",
        "                                                                                                                                          'American Express',       {\n",
        "                                                                                                                                            $cond: [\n",
        "                                                                                                                                              { $eq: [\"$credit_cards.name\",  ' Amex'] },\n",
        "                                                                                                                                              'American Express',       \n",
        "                                                                                                                                              {\n",
        "                                                                                                                                                $cond: [\n",
        "                                                                                                                                                  { $eq: [\"$credit_cards.name\",  ' DINERS'] },\n",
        "                                                                                                                                                  \"Diners Club\",       {\n",
        "                                                                                                                                                    $cond: [\n",
        "                                                                                                                                                      { $eq: [\"$credit_cards.name\",  ' Diners'] },\n",
        "                                                                                                                                                      \"Diners Club\",       \n",
        "                                                                                                                                                      {\n",
        "                                                                                                                                                        $cond: [\n",
        "                                                                                                                                                          { $eq: [\"$credit_cards.name\",  ' Elo'] },\n",
        "                                                                                                                                                          \"Elo\",       {\n",
        "                                                                                                                                                            $cond: [\n",
        "                                                                                                                                                              { $eq: [\"$credit_cards.name\",  ' Elo.'] },\n",
        "                                                                                                                                                              \"Elo\",       \n",
        "                                                                                                                                                              {\n",
        "                                                                                                                                                                $cond: [\n",
        "                                                                                                                                                                  { $eq: [\"$credit_cards.name\",  ' HIPERCARD'] },\n",
        "                                                                                                                                                                  \"Hipercard\",       \n",
        "                                                                                                                                                                  {\n",
        "                                                                                                                                                                    $cond: [\n",
        "                                                                                                                                                                      { $eq: [\"$credit_cards.name\",  ' Hiper'] },\n",
        "                                                                                                                                                                      \"Hipercard\",      \n",
        "                                                                                                                                                                      {\n",
        "                                                                                                                                                                        $cond: [\n",
        "                                                                                                                                                                          { $eq: [\"$credit_cards.name\",  ' Hipercard'] },\n",
        "                                                                                                                                                                          \"Hipercard\",       \n",
        "                                                                                                                                                                          {\n",
        "                                                                                                                                                                            $cond: [\n",
        "                                                                                                                                                                              { $eq: [\"$credit_cards.name\",  ' MASTERCARD'] },\n",
        "                                                                                                                                                                              \"Mastercard\",       \n",
        "                                                                                                                                                                              {\n",
        "                                                                                                                                                                                $cond: [\n",
        "                                                                                                                                                                                  { $eq: [\"$credit_cards.name\",  ' Mastercard'] },\n",
        "                                                                                                                                                                                  \"Mastercard\",       \n",
        "                                                                                                                                                                                  {\n",
        "                                                                                                                                                                                    $cond: [\n",
        "                                                                                                                                                                                      { $eq: [\"$credit_cards.name\",  'AMERICAN EXPRESS'] },\n",
        "                                                                                                                                                                                      \"American Express\",       \n",
        "                                                                                                                                                                                      {\n",
        "                                                                                                                                                                                        $cond: [\n",
        "                                                                                                                                                                                          { $eq: [\"$credit_cards.name\",  'amex'] },\n",
        "                                                                                                                                                                                          \"American Express\",      \n",
        "                                                                                                                                                                                          {\n",
        "                                                                                                                                                                                            $cond: [\n",
        "                                                                                                                                                                                              { $eq: [\"$credit_cards.name\",  'VR REFEIÇÃO'] },\n",
        "                                                                                                                                                                                              'VR Refeição',       \n",
        "                                                                                                                                                                                              {\n",
        "                                                                                                                                                                                                $cond: [\n",
        "                                                                                                                                                                                                  { $eq: [\"$credit_cards.name\",  'VR refeição'] },\n",
        "                                                                                                                                                                                                  'VR Refeição',       \n",
        "                                                                                                                                                                                                  {\n",
        "                                                                                                                                                                                                    $cond: [\n",
        "                                                                                                                                                                                                      { $eq: [\"$credit_cards.name\",  'Credito'] },\n",
        "                                                                                                                                                                                                      'Crédito',      \n",
        "                                                                                                                                                                                                      {\n",
        "                                                                                                                                                                                                        $cond: [\n",
        "                                                                                                                                                                                                          { $eq: [\"$credit_cards.name\",  'ALELO REFEIÇÃO'] },\n",
        "                                                                                                                                                                                                          \"Alelo Refeição\",       \n",
        "                                                                                                                                                                                                          {\n",
        "                                                                                                                                                                                                            $cond: [\n",
        "                                                                                                                                                                                                              { $eq: [\"$credit_cards.name\",  'CRÉDITO'] },\n",
        "                                                                                                                                                                                                              'Crédito',       \n",
        "                                                                                                                                                                                                              {\n",
        "                                                                                                                                                                                                                $cond: [\n",
        "                                                                                                                                                                                                                  { $eq: [\"$credit_cards.name\",  'hiper'] },\n",
        "                                                                                                                                                                                                                  'Hipercard',       \n",
        "                                                                                                                                                                                                                  {\n",
        "                                                                                                                                                                                                                    $cond: [\n",
        "                                                                                                                                                                                                                      { $eq: [\"$credit_cards.name\",  'Alelo refeição'] },\n",
        "                                                                                                                                                                                                                      'Alelo Refeição',       \n",
        "                                                                                                                                                                                                                      {\n",
        "                                                                                                                                                                                                                        $cond: [\n",
        "                                                                                                                                                                                                                          { $eq: [\"$credit_cards.name\",  'Vr Refeição'] },\n",
        "                                                                                                                                                                                                                          'VR Refeição',      \n",
        "                                                                                                                                                                                                                          {\n",
        "                                                                                                                                                                                                                            $cond: [\n",
        "                                                                                                                                                                                                                              { $eq: [\"$credit_cards.name\",  'DÉBITO'] },\n",
        "                                                                                                                                                                                                                              'Débito',       \"$credit_cards.name\"              \n",
        "                                                                                                                                                                                                                            ],\n",
        "                                                                                                                                                                                                                          },              \n",
        "                                                                                                                                                                                                                        ],\n",
        "                                                                                                                                                                                                                      },               \n",
        "                                                                                                                                                                                                                    ],\n",
        "                                                                                                                                                                                                                  },              \n",
        "                                                                                                                                                                                                                ],\n",
        "                                                                                                                                                                                                              },               \n",
        "                                                                                                                                                                                                            ],\n",
        "                                                                                                                                                                                                          },              \n",
        "                                                                                                                                                                                                        ],\n",
        "                                                                                                                                                                                                      },               \n",
        "                                                                                                                                                                                                    ],\n",
        "                                                                                                                                                                                                  },                \n",
        "                                                                                                                                                                                                ],\n",
        "                                                                                                                                                                                              },              \n",
        "                                                                                                                                                                                            ],\n",
        "                                                                                                                                                                                          },                 \n",
        "                                                                                                                                                                                        ],\n",
        "                                                                                                                                                                                      },               \n",
        "                                                                                                                                                                                    ],\n",
        "                                                                                                                                                                                  },               \n",
        "                                                                                                                                                                                ],\n",
        "                                                                                                                                                                              },              \n",
        "                                                                                                                                                                            ],\n",
        "                                                                                                                                                                          },              \n",
        "                                                                                                                                                                        ],\n",
        "                                                                                                                                                                      },             \n",
        "                                                                                                                                                                    ],\n",
        "                                                                                                                                                                  },              \n",
        "                                                                                                                                                                ],\n",
        "                                                                                                                                                              },              \n",
        "                                                                                                                                                            ],\n",
        "                                                                                                                                                          },               \n",
        "                                                                                                                                                        ],\n",
        "                                                                                                                                                      },                           \n",
        "                                                                                                                                                    ],\n",
        "                                                                                                                                                  },              \n",
        "                                                                                                                                                ],\n",
        "                                                                                                                                              },                             \n",
        "                                                                                                                                            ],\n",
        "                                                                                                                                          },                \n",
        "                                                                                                                                        ],\n",
        "                                                                                                                                      },                             \n",
        "                                                                                                                                    ],\n",
        "                                                                                                                                  },                \n",
        "                                                                                                                                ],\n",
        "                                                                                                                              },             \n",
        "                                                                                                                            ],\n",
        "                                                                                                                          },              \n",
        "                                                                                                                        ],\n",
        "                                                                                                                      },               \n",
        "                                                                                                                    ],\n",
        "                                                                                                                  },               \n",
        "                                                                                                                ],\n",
        "                                                                                                              },               \n",
        "                                                                                                            ],\n",
        "                                                                                                          },               \n",
        "                                                                                                        ],\n",
        "                                                                                                      },               \n",
        "                                                                                                    ],\n",
        "                                                                                                  },               \n",
        "                                                                                                ],\n",
        "                                                                                              },               \n",
        "                                                                                            ],\n",
        "                                                                                          },               \n",
        "                                                                                        ],\n",
        "                                                                                      },              \n",
        "                                                                                    ],\n",
        "                                                                                  },              \n",
        "                                                                                ],\n",
        "                                                                              },              \n",
        "                                                                            ],\n",
        "                                                                          },              \n",
        "                                                                        ],\n",
        "                                                                      },              \n",
        "                                                                    ],\n",
        "                                                                  },              \n",
        "                                                                ],\n",
        "                                                              },              \n",
        "                                                            ],\n",
        "                                                          },              \n",
        "                                                        ],\n",
        "                                                      },                      \n",
        "                                                    ],\n",
        "                                                  },                     \n",
        "                                                ],\n",
        "                                              },                 \n",
        "                                            ],\n",
        "                                          },                    \n",
        "                                        ],\n",
        "                                      },                \n",
        "                                    ],\n",
        "                                  },                    \n",
        "                                ],\n",
        "                              },                   \n",
        "                            ],\n",
        "                          },                    \n",
        "                        ],\n",
        "                        \n",
        "                      },                      \n",
        "                    ],\n",
        "                  },\n",
        "                ],\n",
        "              },\n",
        "            ],\n",
        "          },\n",
        "        ],\n",
        "      },\n",
        "    },\n",
        "  },\n",
        "  { $unwind: \"$credit_cards.name\" },\n",
        "  {\n",
        "    $group: {\n",
        "      _id: \"$credit_cards.name\",\n",
        "      count: { $sum: 1 },\n",
        "    },\n",
        "  },\n",
        "  {\n",
        "    $sort: { count: -1 },\n",
        "  },\n",
        "]);"
      ]
    },
    {
      "cell_type": "markdown",
      "metadata": {
        "id": "rWfh1o5D9DsY"
      },
      "source": [
        "## Retorne os 10 estabelecimentos em que os clientes mais retiraram cupons"
      ]
    },
    {
      "cell_type": "code",
      "execution_count": null,
      "metadata": {
        "id": "mMzJssC69D_4",
        "vscode": {
          "languageId": "javascript"
        }
      },
      "outputs": [],
      "source": [
        "db.clientcoupons.aggregate([    \n",
        "  {\n",
        "    $group: {\n",
        "      _id: \"$page\",            \n",
        "      count: { $sum: 1 },      \n",
        "    },\n",
        "  },\n",
        "  {\n",
        "     $sort: { count: -1 } \n",
        "  },\n",
        "  {\n",
        "    $limit: 10\n",
        "  }\n",
        "]);"
      ]
    },
    {
      "cell_type": "markdown",
      "metadata": {
        "id": "tXjrGK5D9Ebl"
      },
      "source": [
        "## Retorne os 10 estabelecimentos em que os clientes mais retiraram prêmios do programa de fidelidade\n",
        "\n",
        "Observação: Explore os documentos da coleção para descobrir quando um prêmio já foi retirado"
      ]
    },
    {
      "cell_type": "code",
      "execution_count": null,
      "metadata": {
        "id": "dfRAeklO9Et4",
        "vscode": {
          "languageId": "javascript"
        }
      },
      "outputs": [],
      "source": [
        "\n",
        "db.clientgifts.aggregate([ \n",
        "  {\n",
        "    $match: {         \n",
        "         $and: [\n",
        "          {deleted: {$exists: false} },                      \n",
        "          {date_withdrawal: {$exists: true} }\n",
        "         ]     \n",
        "    }\n",
        "  }, \n",
        "  {\n",
        "    $group: {\n",
        "      _id: \"$page\",            \n",
        "      count: { $sum: 1 },      \n",
        "    },\n",
        "  },\n",
        "  {\n",
        "     $sort: { count: -1 } \n",
        "  },\n",
        "  {\n",
        "    $limit: 10\n",
        "  }\n",
        "]);"
      ]
    },
    {
      "cell_type": "markdown",
      "metadata": {
        "id": "bKuJwmhe9E7v"
      },
      "source": [
        "## Retorne a quantidade de prêmios ainda a serem retirados por clientes de cada um dos estabelecimentos **com plano de fidelidade ativo**"
      ]
    },
    {
      "cell_type": "code",
      "execution_count": 33,
      "metadata": {
        "id": "MfLEnl-O9-u3",
        "vscode": {
          "languageId": "javascript"
        }
      },
      "outputs": [
        {
          "ename": "SyntaxError",
          "evalue": "invalid syntax (1057433801.py, line 3)",
          "output_type": "error",
          "traceback": [
            "\u001b[1;36m  Input \u001b[1;32mIn [33]\u001b[1;36m\u001b[0m\n\u001b[1;33m    $match:\u001b[0m\n\u001b[1;37m    ^\u001b[0m\n\u001b[1;31mSyntaxError\u001b[0m\u001b[1;31m:\u001b[0m invalid syntax\n"
          ]
        }
      ],
      "source": [
        "db.clientgifts.aggregate([\n",
        "  {\n",
        "    $match: {\n",
        "      $and: [\n",
        "        { deleted: { $exists: false } },\n",
        "        { date_withdrawal: { $exists: false } },\n",
        "      ],\n",
        "    },\n",
        "  },\n",
        "  {\n",
        "    $lookup: {\n",
        "      from: \"pagemodules\",\n",
        "      let: { page_from_clientgifts: \"$page\" },\n",
        "      pipeline: [\n",
        "        {\n",
        "          $match: {\n",
        "            $and: [\n",
        "              { status: true },\n",
        "              { module: ObjectId(\"5d948fa992326f56ca227b63\") },\n",
        "              { $expr: { $eq: [\"$page\", \"$$page_from_clientgifts\"] } },\n",
        "            ],\n",
        "          },\n",
        "        },\n",
        "        {\n",
        "          $group: {\n",
        "            _id: \"$page\", \n",
        "          }\n",
        "        }\n",
        "      ],\n",
        "      as: \"pages_with_fidelity_active\",\n",
        "    },\n",
        "  },\n",
        "  {\n",
        "    $unwind: \"$pages_with_fidelity_active\"\n",
        "  },\n",
        "  {\n",
        "    $group: {\n",
        "      _id: \"$page\",      \n",
        "      count: { $sum: 1 },\n",
        "    },\n",
        "  },\n",
        "  {\n",
        "    $sort: { count: -1 },\n",
        "  }  \n",
        "]);"
      ]
    },
    {
      "cell_type": "markdown",
      "metadata": {
        "id": "3_kmNaI--OYl"
      },
      "source": [
        "## Retorne todos os clientes que faltam apenas um ponto para que eles consigam ganhar o prêmio do plano fidelidade\n",
        "\n",
        "Só deveremos considerar aqueles que possuem o plano de fidelidade ativo"
      ]
    },
    {
      "cell_type": "code",
      "execution_count": null,
      "metadata": {
        "id": "Pnv-4-0Q-Oz6"
      },
      "outputs": [],
      "source": [
        "//nao entendi onde achar os pontos do fidelidade, pois no clientfidelities tem mais de um campo com withdrawn"
      ]
    },
    {
      "cell_type": "markdown",
      "metadata": {
        "id": "zl_MwNY5-PBV"
      },
      "source": [
        "## Retorne o cliente que mais realizou ações durante um atendimento no último dia"
      ]
    },
    {
      "cell_type": "code",
      "execution_count": null,
      "metadata": {
        "id": "F1ma9cY2-PSE"
      },
      "outputs": [],
      "source": [
        "db.clientactions.aggregate([\n",
        "  {\n",
        "    $match: \n",
        "      { \"createdAt\" : { $gte : ISODate(\"2022-06-14T00:00:00.000+0000\"), $lt : ISODate(\"2022-06-15T00:00:00.000+0000\") } }\n",
        "    ,\n",
        "  }, \n",
        "  \n",
        "  {\n",
        "    $group: {\n",
        "      _id: \"$client\",\n",
        "      count: { $sum: 1 }, \n",
        "    }\n",
        "  },\n",
        "  {\n",
        "    $sort: { count: -1 },\n",
        "  },\n",
        "  {\n",
        "    $limit:1\n",
        "  }\n",
        " \n",
        "])"
      ]
    },
    {
      "cell_type": "markdown",
      "metadata": {
        "id": "Ij6bfb34-Pk0"
      },
      "source": [
        "## Retorne os 10 estabelecimentos que possuem mais itens **disponíveis** no cardápio\n",
        "\n",
        "Quando um item não está disponível, a propriedade `deleted` dele está **setada** como `True`"
      ]
    },
    {
      "cell_type": "code",
      "execution_count": null,
      "metadata": {
        "id": "t7vlhZl0-P7n"
      },
      "outputs": [],
      "source": [
        "db.items.aggregate([\n",
        "  {\n",
        "    $match: \n",
        "      {deleted: false  }\n",
        "    ,\n",
        "  },  \n",
        "  {\n",
        "    $group: {\n",
        "      _id: \"$page\",\n",
        "      count: { $sum: 1 },\n",
        "    },\n",
        "  }, \n",
        "  {\n",
        "    $sort: { count: -1 },\n",
        "  },\n",
        "  {\n",
        "    $limit:10\n",
        "  }\n",
        "])"
      ]
    },
    {
      "cell_type": "markdown",
      "metadata": {
        "id": "hS_7a2YV_Rbo"
      },
      "source": [
        "## Quais são os 5 estabelecimentos com maior quantidade de preços promocionais disponíveis?\n",
        "\n",
        "Preços promocionais são aqueles que contém a propriedade `is_promotion` igual a `True`, dentro do preço incluso no objeto dos preços por dia da semana (`week`), na coleção `item_prices`"
      ]
    },
    {
      "cell_type": "code",
      "execution_count": null,
      "metadata": {
        "id": "M95Pw932_RwM"
      },
      "outputs": [],
      "source": [
        "db.item_prices.aggregate([\n",
        "  {\n",
        "    $match: \n",
        "    {\n",
        "      $or: [\n",
        "        { \"week.0.is_promotion\" : true },\n",
        "        { \"week.1.is_promotion\" : true },\n",
        "        { \"week.2.is_promotion\" : true },\n",
        "        { \"week.3.is_promotion\" : true },\n",
        "        { \"week.4.is_promotion\" : true },\n",
        "        { \"week.5.is_promotion\" : true },\n",
        "        { \"week.6.is_promotion\" : true }    \n",
        "    ]\n",
        "    }   \n",
        "    ,\n",
        "  },  \n",
        "  {\n",
        "    $group: {\n",
        "      _id: \"$page\",\n",
        "      count: { $sum: 1 },\n",
        "    },\n",
        "  }, \n",
        "  {\n",
        "    $sort: { count: -1 },\n",
        "  },\n",
        "  {\n",
        "    $limit:5\n",
        "  }\n",
        "])"
      ]
    },
    {
      "cell_type": "markdown",
      "metadata": {
        "id": "lJyGQC6s_R9_"
      },
      "source": [
        "## Qual a quantidade em meses que cada um dos estabelecimentos ativos estão na plataforma?\n",
        "\n",
        "Para este exemplo (atenção, somente para este, no cenário real isso \"não poderia\" ser feito dessa forma), considere a data de entrada como a data de criação do documento de cada um dos estabelecimentos `createdAt`."
      ]
    },
    {
      "cell_type": "code",
      "execution_count": null,
      "metadata": {
        "id": "THLMrg7R_SPa"
      },
      "outputs": [],
      "source": [
        "db.establishments.aggregate([\n",
        "  { $match: { \"sign.active\": true } },\n",
        "  {\n",
        "    $project: {\n",
        "      \n",
        "      years: {$round : [ {$divide:[{ $divide: [{ $subtract: [\"$$NOW\", \"$createdAt\"] }, 2629746000] },12]}, 0]},\n",
        "      months:{$round : [    {$mod:[{ $divide: [{ $subtract: [\"$$NOW\", \"$createdAt\"] }, 2629746000] },12]}, 0]}\n",
        "    }  \n",
        "  },\n",
        "  {\n",
        "    $sort: { years: -1,months: -1 },\n",
        "  },\n",
        "]);"
      ]
    },
    {
      "cell_type": "markdown",
      "metadata": {
        "id": "R2bD6I39_Sl3"
      },
      "source": [
        "## Quais é a frase mais comum de cada uma das intenções do bot?\n",
        "\n",
        "Observação: se a intenção foi igual a mensagem, esta mensagem deve ser desconsiderada\n",
        "Observação: considerar apenas mensagens enviadas no dia de ontem"
      ]
    },
    {
      "cell_type": "code",
      "execution_count": null,
      "metadata": {
        "id": "Vh6bEdRX_S1T"
      },
      "outputs": [],
      "source": [
        "nao da pra fazer sem a collection message"
      ]
    },
    {
      "cell_type": "markdown",
      "metadata": {
        "id": "194SkQdyb1bf"
      },
      "source": [
        "## Quantos estabelecimentos ativos temos em cada uma das regiões do país?"
      ]
    },
    {
      "cell_type": "code",
      "execution_count": null,
      "metadata": {
        "id": "tqR-e4MVb49r"
      },
      "outputs": [],
      "source": [
        "db.establishmentunits.aggregate([\n",
        "  {\n",
        "    $match: {\n",
        "      address: { $exists: true, $ne: [] },\n",
        "    },\n",
        "  },\n",
        "    \n",
        "  {\n",
        "    $unwind: \"$address.state\",\n",
        "  },\n",
        "  {\n",
        "    $group: {\n",
        "      _id: \"$address.state\",\n",
        "      count: { $sum: 1 },\n",
        "    },\n",
        "  },\n",
        "  {\n",
        "    $sort: { count: -1 },\n",
        "  },\n",
        "]);"
      ]
    }
  ],
  "metadata": {
    "colab": {
      "name": "Exercícios mongodb.ipynb",
      "provenance": []
    },
    "kernelspec": {
      "display_name": "Python 3.10.4 64-bit",
      "language": "python",
      "name": "python3"
    },
    "language_info": {
      "name": "python",
      "version": "3.10.4"
    },
    "vscode": {
      "interpreter": {
        "hash": "369f2c481f4da34e4445cda3fffd2e751bd1c4d706f27375911949ba6bb62e1c"
      }
    }
  },
  "nbformat": 4,
  "nbformat_minor": 0
}
